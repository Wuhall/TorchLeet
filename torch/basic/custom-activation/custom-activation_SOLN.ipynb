{
 "cells": [
  {
   "cell_type": "markdown",
   "metadata": {},
   "source": [
    "# Problem: Write a Custom Activation Function\n",
    "\n",
    "### Problem Statement\n",
    "You are tasked with implementing a **custom activation function** in PyTorch that computes the following operation: \n",
    " \n",
    "$ \\text{activation}(x) = \\tanh(x) + x $ \n",
    "\n",
    "Once implemented, this custom activation function will be used in a simple linear regression model.\n",
    "\n",
    "### Requirements\n",
    "1. **Custom Activation Function**:\n",
    "   - Implement a class `CustomActivationModel` inheriting from `torch.nn.Module`.\n",
    "   - Define the `forward` method to compute the activation function \\( \\text{tanh}(x) + x \\).\n",
    "\n",
    "2. **Integration with Linear Regression**:\n",
    "   - Use the custom activation function in a simple linear regression model.\n",
    "   - The model should include:\n",
    "     - A single linear layer.\n",
    "     - The custom activation function applied to the output of the linear layer.\n",
    "\n",
    "### Constraints\n",
    "- The custom activation function should not have any learnable parameters.\n",
    "- Ensure compatibility with PyTorch tensors for forward pass computations.\n",
    "\n",
    "<details>\n",
    "  <summary>💡 Hint</summary>\n",
    "  Some details: https://stackoverflow.com/questions/55765234/pytorch-custom-activation-functions\n",
    "</details>"
   ]
  },
  {
   "cell_type": "code",
   "execution_count": 5,
   "metadata": {},
   "outputs": [],
   "source": [
    "import torch\n",
    "import torch.nn as nn\n",
    "import torch.optim as optim\n",
    "from matplotlib import pyplot as plt"
   ]
  },
  {
   "cell_type": "code",
   "execution_count": 8,
   "metadata": {},
   "outputs": [
    {
     "name": "stdout",
     "output_type": "stream",
     "text": [
      "X==> tensor([[8.8227],\n",
      "        [9.1500],\n",
      "        [3.8286],\n",
      "        [9.5931],\n",
      "        [3.9045],\n",
      "        [6.0090],\n",
      "        [2.5657],\n",
      "        [7.9364],\n",
      "        [9.4077],\n",
      "        [1.3319],\n",
      "        [9.3460],\n",
      "        [5.9358],\n",
      "        [8.6940],\n",
      "        [5.6772],\n",
      "        [7.4109],\n",
      "        [4.2940],\n",
      "        [8.8544],\n",
      "        [5.7390],\n",
      "        [2.6658],\n",
      "        [6.2745],\n",
      "        [2.6963],\n",
      "        [4.4136],\n",
      "        [2.9692],\n",
      "        [8.3169],\n",
      "        [1.0531],\n",
      "        [2.6949],\n",
      "        [3.5881],\n",
      "        [1.9936],\n",
      "        [5.4719],\n",
      "        [0.0616],\n",
      "        [9.5155],\n",
      "        [0.7527],\n",
      "        [8.8601],\n",
      "        [5.8321],\n",
      "        [3.3765],\n",
      "        [8.0898],\n",
      "        [5.7793],\n",
      "        [9.0398],\n",
      "        [5.5466],\n",
      "        [3.4231],\n",
      "        [6.3434],\n",
      "        [3.6441],\n",
      "        [7.1043],\n",
      "        [9.4641],\n",
      "        [7.8903],\n",
      "        [2.8141],\n",
      "        [7.8863],\n",
      "        [5.8946],\n",
      "        [7.5392],\n",
      "        [1.9525],\n",
      "        [0.0505],\n",
      "        [3.0682],\n",
      "        [1.1649],\n",
      "        [9.1027],\n",
      "        [6.4402],\n",
      "        [7.0711],\n",
      "        [6.5813],\n",
      "        [4.9130],\n",
      "        [8.9130],\n",
      "        [1.4474],\n",
      "        [5.3148],\n",
      "        [1.5873],\n",
      "        [6.5418],\n",
      "        [3.2781],\n",
      "        [6.5321],\n",
      "        [3.9583],\n",
      "        [9.1470],\n",
      "        [2.0365],\n",
      "        [2.0180],\n",
      "        [2.0178],\n",
      "        [9.4972],\n",
      "        [6.6663],\n",
      "        [9.8113],\n",
      "        [0.8736],\n",
      "        [0.0406],\n",
      "        [1.0882],\n",
      "        [1.6366],\n",
      "        [7.0252],\n",
      "        [6.7904],\n",
      "        [9.1546],\n",
      "        [2.4179],\n",
      "        [1.5914],\n",
      "        [7.6529],\n",
      "        [2.9790],\n",
      "        [8.0346],\n",
      "        [3.8135],\n",
      "        [7.8602],\n",
      "        [1.1152],\n",
      "        [2.4768],\n",
      "        [6.5244],\n",
      "        [6.0570],\n",
      "        [3.7252],\n",
      "        [7.9803],\n",
      "        [8.3990],\n",
      "        [1.3741],\n",
      "        [2.3307],\n",
      "        [9.5783],\n",
      "        [3.3128],\n",
      "        [3.2274],\n",
      "        [0.1620]])\n",
      "X.shape==> torch.Size([100, 1])\n",
      "X.dtype==> torch.float32\n",
      "X.len==> 100\n"
     ]
    }
   ],
   "source": [
    "# Generate synthetic data\n",
    "torch.manual_seed(42)\n",
    "X = torch.rand(100, 1) * 10  # 100 data points between 0 and 10\n",
    "print(f\"X==> {X}\")\n",
    "print(f\"X.shape==> {X.shape}\")\n",
    "print(f\"X.dtype==> {X.dtype}\")\n",
    "print(f\"X.len==> {len(X)}\")\n",
    "y = 2 * X + 3 + torch.randn(100, 1)  # Linear relationship with noise"
   ]
  },
  {
   "cell_type": "code",
   "execution_count": null,
   "metadata": {},
   "outputs": [
    {
     "name": "stdout",
     "output_type": "stream",
     "text": [
      "Epoch [100/1000], Loss: 1.1104\n",
      "Epoch [200/1000], Loss: 0.8213\n",
      "Epoch [300/1000], Loss: 0.7216\n",
      "Epoch [400/1000], Loss: 0.6851\n",
      "Epoch [500/1000], Loss: 0.6714\n",
      "Epoch [600/1000], Loss: 0.6662\n",
      "Epoch [700/1000], Loss: 0.6643\n",
      "Epoch [800/1000], Loss: 0.6635\n",
      "Epoch [900/1000], Loss: 0.6633\n",
      "Epoch [1000/1000], Loss: 0.6632\n"
     ]
    }
   ],
   "source": [
    "# Define the Linear Regression Model within a CustomActivationModel class\n",
    "class CustomActivationModel(nn.Module):\n",
    "    def __init__(self):\n",
    "        super(CustomActivationModel, self).__init__()\n",
    "        \"\"\" 输入特征的维度是 1 维度， 输出特征的维度是 1 维 \"\"\"\n",
    "        self.linear = nn.Linear(1, 1)  # Single input and single output\n",
    "\n",
    "    def custom_activation(self, x):\n",
    "        return torch.tanh(x) + x\n",
    "\n",
    "    def forward(self, x):\n",
    "        return self.custom_activation(self.linear(x))\n",
    "\n",
    "# Initialize the model, loss function, and optimizer\n",
    "model = CustomActivationModel()\n",
    "criterion = nn.MSELoss()\n",
    "optimizer = optim.SGD(model.parameters(), lr=0.01)\n",
    "\n",
    "# Training loop\n",
    "epochs = 1000\n",
    "for epoch in range(epochs):\n",
    "    # Forward pass\n",
    "    predictions = model(X)\n",
    "    loss = criterion(predictions, y)\n",
    "\n",
    "    # Backward pass and optimization\n",
    "    # 梯度清零，避免之前的梯度累加\n",
    "    optimizer.zero_grad()\n",
    "    # 自动计算梯度\n",
    "    loss.backward()\n",
    "    # 更新参数\n",
    "    optimizer.step()\n",
    "\n",
    "    # Log progress every 100 epochs\n",
    "    if (epoch + 1) % 100 == 0:\n",
    "        print(f\"Epoch [{epoch + 1}/{epochs}], Loss: {loss.item():.4f}\")\n"
   ]
  },
  {
   "cell_type": "code",
   "execution_count": 11,
   "metadata": {},
   "outputs": [
    {
     "name": "stdout",
     "output_type": "stream",
     "text": [
      "w, b.shape==> torch.Size([1, 1]), torch.Size([1])\n",
      "Learned weight: 1.9558, Learned bias: 2.2172\n"
     ]
    },
    {
     "data": {
      "image/png": "[encoded data removed]",
      "text/plain": [
       "<Figure size 400x400 with 1 Axes>"
      ]
     },
     "metadata": {},
     "output_type": "display_data"
    },
    {
     "name": "stdout",
     "output_type": "stream",
     "text": [
      "Predictions for [[4.0], [7.0]]: [[11.04050064086914], [16.90799903869629]]\n"
     ]
    }
   ],
   "source": [
    "# Display the learned parameters\n",
    "[w, b] = model.linear.parameters()\n",
    "print(f\"w, b.shape==> {w.shape}, {b.shape}\")\n",
    "print(f\"Learned weight: {w.item():.4f}, Learned bias: {b.item():.4f}\")\n",
    "\n",
    "# Plot the model fit to the train data\n",
    "plt.figure(figsize=(4, 4))\n",
    "plt.scatter(X, y, label='Training Data')\n",
    "plt.plot(X, w.item()*X + b.item(), 'r', label='Model Fit')\n",
    "plt.legend()\n",
    "plt.show()\n",
    "\n",
    "# Testing on new data\n",
    "X_test = torch.tensor([[4.0], [7.0]])\n",
    "with torch.no_grad():\n",
    "    predictions = model(X_test)\n",
    "    print(f\"Predictions for {X_test.tolist()}: {predictions.tolist()}\")"
   ]
  },
  {
   "cell_type": "code",
   "execution_count": null,
   "metadata": {},
   "outputs": [],
   "source": []
  }
 ],
 "metadata": {
  "kernelspec": {
   "display_name": "pytorch2.6",
   "language": "python",
   "name": "python3"
  },
  "language_info": {
   "codemirror_mode": {
    "name": "ipython",
    "version": 3
   },
   "file_extension": ".py",
   "mimetype": "text/x-python",
   "name": "python",
   "nbconvert_exporter": "python",
   "pygments_lexer": "ipython3",
   "version": "3.9.21"
  }
 },
 "nbformat": 4,
 "nbformat_minor": 2
}
