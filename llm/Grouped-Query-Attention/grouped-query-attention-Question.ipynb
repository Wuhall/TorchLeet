{
 "cells": [
  {
   "cell_type": "markdown",
   "metadata": {},
   "source": [
    "# Implement Attention from Scratch\n",
    "### 🧠 Problem Statement\n",
    "Standard Multi-Head Attention (MHA) assigns a separate query, key, and value projection to each attention head. But that’s not always the most efficient approach. \n",
    "\n",
    "Enter **Grouped Query Attention (GQA)** — a clever mechanism where you use more query heads than key-value heads. This reduces compute/memory costs while still allowing for fine-grained query specialization.\n",
    "\n",
    "Your task is to **implement GQA from scratch** and validate it against PyTorch’s `MultiheadAttention` under the special case where GQA behaves identically to MHA (i.e., when `num_query_heads == num_query_groups`).\n",
    "\n",
    "---\n",
    "\n",
    "### ✅ Requirements\n",
    "\n",
    "1. **Define the GQA Mechanism**\n",
    "   - Create a function `grouped_query_attention(q, k, v, num_query_groups, d_model, mask=None)`.\n",
    "   - Project `q`, `k`, and `v` using linear layers:\n",
    "     - Q projection → all query heads.\n",
    "     - K/V projection → shared across grouped key/value heads.\n",
    "   - Use `repeat_interleave()` to expand grouped K/V heads to match the number of Q heads.\n",
    "\n",
    "2. **Compute Attention**\n",
    "   - Apply scaled dot-product attention using `Q @ Kᵀ / sqrt(d_head)`.\n",
    "   - Support optional masking.\n",
    "   - Return output by concatenating heads and applying the output projection.\n",
    "\n",
    "3. **Validate Against MHA**\n",
    "   - Test your implementation using synthetic tensors.\n",
    "   - Compare your output to `torch.nn.MultiheadAttention` where GQA degenerates to MHA (`num_query_heads == num_query_groups`).\n",
    "   - Assert that both outputs match numerically.\n",
    "\n",
    "---\n",
    "\n",
    "### 📏 Constraints\n",
    "\n",
    "- ✅ Use only PyTorch (no external libraries like xformers or HuggingFace).\n",
    "- ✅ Output shape must be `(batch_size, seq_len, d_model)`.\n",
    "- ✅ Support optional attention masking.\n",
    "- ✅ Validate output against `torch.nn.MultiheadAttention` for correctness.\n",
    "\n",
    "---\n",
    "\n",
    "<details>\n",
    "  <summary>💡 Hint</summary>\n",
    "\n",
    "  - Use `nn.Linear(d_model, d_model)` for projecting `q`, `k`, and `v`.\n",
    "  - When `num_query_heads > num_query_groups`, use `.repeat_interleave()` to duplicate each group’s `K`/`V` to match query head count.\n",
    "  - Final output: reshape the multi-head outputs to `(batch_size, seq_len, d_model)` and apply the output projection layer.\n",
    "  - Test with `num_query_heads == num_query_groups` to confirm it behaves like MHA.\n",
    "\n",
    "</details>\n",
    "\n",
    "---"
   ]
  },
  {
   "cell_type": "code",
   "execution_count": 1,
   "metadata": {},
   "outputs": [],
   "source": [
    "import torch\n",
    "import torch.nn as nn\n",
    "import torch.optim as optim\n",
    "import torch.nn.functional as F"
   ]
  },
  {
   "cell_type": "code",
   "execution_count": null,
   "metadata": {},
   "outputs": [],
   "source": [
    "# Synthetic data\n",
    "torch.manual_seed(42)\n",
    "batch_size = 3\n",
    "seq_len = 4\n",
    "d_model = 8\n",
    "num_heads = 2\n",
    "\n",
    "q = torch.rand(batch_size, seq_len, d_model)\n",
    "k = torch.rand(batch_size, seq_len, d_model)\n",
    "v = torch.rand(batch_size, seq_len, d_model)\n",
    "print(q.shape)\n",
    "\n",
    "device = \"cuda\" if torch.cuda.is_available() else \"cpu\"\n",
    "device = \"cpu\""
   ]
  },
  {
   "cell_type": "code",
   "execution_count": null,
   "metadata": {},
   "outputs": [],
   "source": [
    "import torch\n",
    "import torch.nn as nn\n",
    "import torch.nn.functional as F\n",
    "\n",
    "def grouped_query_attention(q, k, v, num_query_groups, d_model, mask=None):\n",
    "    \"\"\"\n",
    "    Implements Grouped Query Attention (GQA).\n",
    "\n",
    "    Args:\n",
    "        q (Tensor): Query tensor of shape (batch_size, seq_len, d_model)\n",
    "        k (Tensor): Key tensor of shape (batch_size, seq_len, d_model)\n",
    "        v (Tensor): Value tensor of shape (batch_size, seq_len, d_model)\n",
    "        num_query_groups (int): Number of key/value groups (fewer than query groups)\n",
    "        d_model (int): Total embedding dimension\n",
    "        mask (Tensor, optional): Masking tensor for attention\n",
    "\n",
    "    Returns:\n",
    "        Tensor: GQA output of shape (batch_size, seq_len, d_model)\n",
    "    \"\"\"\n",
    "    ...\n",
    "    "
   ]
  },
  {
   "cell_type": "code",
   "execution_count": null,
   "metadata": {},
   "outputs": [],
   "source": [
    "# Temporarily set\n",
    "num_query_heads = 8\n",
    "num_query_groups = 8  # => GQA behaves like MHA\n",
    "\n",
    "# Use same d_model and input\n",
    "multihead_attn = torch.nn.MultiheadAttention(embed_dim=d_model, num_heads=num_heads, bias=False, batch_first=True)\n",
    "output_ref, _ = multihead_attn(q, k, v)\n",
    "output_custom = grouped_query_attention(q, k, v, num_query_groups=num_query_groups, d_model=d_model)\n",
    "\n",
    "# Compare\n",
    "assert torch.allclose(output_custom, output_ref, atol=1e-8, rtol=1e-5)\n",
    "\n"
   ]
  }
 ],
 "metadata": {
  "kernelspec": {
   "display_name": "pytorch2.6",
   "language": "python",
   "name": "python3"
  },
  "language_info": {
   "codemirror_mode": {
    "name": "ipython",
    "version": 3
   },
   "file_extension": ".py",
   "mimetype": "text/x-python",
   "name": "python",
   "nbconvert_exporter": "python",
   "pygments_lexer": "ipython3",
   "version": "3.9.21"
  }
 },
 "nbformat": 4,
 "nbformat_minor": 2
}
